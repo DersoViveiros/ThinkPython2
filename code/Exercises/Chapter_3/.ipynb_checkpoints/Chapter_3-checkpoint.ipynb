{
 "cells": [
  {
   "cell_type": "code",
   "execution_count": 8,
   "metadata": {
    "ExecuteTime": {
     "end_time": "2020-07-12T15:23:52.843286Z",
     "start_time": "2020-07-12T15:23:52.834347Z"
    }
   },
   "outputs": [
    {
     "name": "stdout",
     "output_type": "stream",
     "text": [
      "                                                                 monty\n"
     ]
    }
   ],
   "source": [
    "# Exercise 3.1. Write a function named right_justify that takes a string named s as a parameter\n",
    "# and prints the string with enough leading spaces so that the last letter of the string is in column 70\n",
    "# of the display.\n",
    "# >>> right_justify('monty')\n",
    "# monty\n",
    "# Hint: Use string concatenation and repetition. Also, Python provides a built-in function called len\n",
    "# that returns the length of a string, so the value of len('monty') is 5.\n",
    "\n",
    "def right_justify(s):\n",
    "    x = 70-len(s)\n",
    "    space = x*' '\n",
    "    print(space+s)\n",
    "    \n",
    "right_justify('monty')"
   ]
  },
  {
   "cell_type": "code",
   "execution_count": 17,
   "metadata": {
    "ExecuteTime": {
     "end_time": "2020-07-12T15:35:58.011799Z",
     "start_time": "2020-07-12T15:35:57.994912Z"
    }
   },
   "outputs": [
    {
     "name": "stdout",
     "output_type": "stream",
     "text": [
      "spam\n",
      "spam\n",
      " \n",
      "spam\n",
      "spam\n",
      "spam\n",
      "spam\n",
      " \n",
      "spam\n",
      "spam\n",
      "spam\n",
      "spam\n"
     ]
    }
   ],
   "source": [
    "# Exercise 3.2. A function object is a value you can assign to a variable or pass as an argument. For\n",
    "# example, do_twice is a function that takes a function object as an argument and calls it twice:\n",
    "# def do_twice(f):\n",
    "# f()\n",
    "# f()\n",
    "# Here’s an example that uses do_twice to call a function named print_spam twice.\n",
    "# def print_spam():\n",
    "# print('spam')\n",
    "# do_twice(print_spam)\n",
    "# 1. Type this example into a script and test it.\n",
    "# 2. Modify do_twice so that it takes two arguments, a function object and a value, and calls the\n",
    "# function twice, passing the value as an argument.\n",
    "# 3. Copy the definition of print_twice from earlier in this chapter to your script.\n",
    "# 4. Use the modified version of do_twice to call print_twice twice, passing 'spam' as an\n",
    "# argument.\n",
    "# 5. Define a new function called do_four that takes a function object and a value and calls the\n",
    "# function four times, passing the value as a parameter. There should be only two statements in\n",
    "#the body of this function, not four.\n",
    "\n",
    "#1.\n",
    "def do_twice(f):\n",
    "    f()\n",
    "    f()\n",
    "\n",
    "def print_spam():\n",
    "    print('spam')\n",
    "\n",
    "do_twice(print_spam)\n",
    "\n",
    "print(' ') #blank space\n",
    "\n",
    "#2.\n",
    "def do_twice(f,x):\n",
    "    f(x)\n",
    "    f(x)\n",
    "\n",
    "#3.\n",
    "def print_twice(bruce):\n",
    "    print(bruce)\n",
    "    print(bruce)\n",
    "\n",
    "#4.\n",
    "do_twice(print_twice,'spam')\n",
    "\n",
    "print(' ')\n",
    "\n",
    "#5.\n",
    "def do_four(f,x):\n",
    "    do_twice(f,x)\n",
    "    do_twice(f,x)\n",
    "\n",
    "do_four(print,'spam')"
   ]
  },
  {
   "cell_type": "code",
   "execution_count": 123,
   "metadata": {
    "ExecuteTime": {
     "end_time": "2020-07-12T16:35:31.655936Z",
     "start_time": "2020-07-12T16:35:31.583999Z"
    }
   },
   "outputs": [
    {
     "name": "stdout",
     "output_type": "stream",
     "text": [
      "+ - - - - + - - - - +\n",
      "|         |         |\n",
      "|         |         |\n",
      "|         |         |\n",
      "|         |         |\n",
      "+ - - - - + - - - - +\n",
      "|         |         |\n",
      "|         |         |\n",
      "|         |         |\n",
      "|         |         |\n",
      "+ - - - - + - - - - +\n",
      "\n",
      "\n",
      "+ - - - - - + - - - - - +\n",
      "|           |           |\n",
      "|           |           |\n",
      "+ - - - - - + - - - - - +\n",
      "|           |           |\n",
      "|           |           |\n",
      "+ - - - - - + - - - - - +\n",
      "\n",
      "\n",
      "* & & & & * & & & & *\n",
      "$         $         $\n",
      "$         $         $\n",
      "$         $         $\n",
      "$         $         $\n",
      "* & & & & * & & & & *\n",
      "$         $         $\n",
      "$         $         $\n",
      "$         $         $\n",
      "$         $         $\n",
      "* & & & & * & & & & *\n",
      "\n",
      "\n",
      "# ! ! ! ! ! ! # ! ! ! ! ! ! #\n",
      "%             %             %\n",
      "# ! ! ! ! ! ! # ! ! ! ! ! ! #\n",
      "%             %             %\n",
      "# ! ! ! ! ! ! # ! ! ! ! ! ! #\n",
      "+ - - - + - - - +\n",
      "|       |       |\n",
      "|       |       |\n",
      "|       |       |\n",
      "+ - - - + - - - +\n",
      "|       |       |\n",
      "|       |       |\n",
      "|       |       |\n",
      "+ - - - + - - - +\n"
     ]
    }
   ],
   "source": [
    "# Exercise 3.3. Note: This exercise should be done using only the statements and other features we\n",
    "# have learned so far.\n",
    "# 1. Write a function that draws a grid like the following:\n",
    "# + - - - - + - - - - +\n",
    "# |         |         |\n",
    "# |         |         |\n",
    "# |         |         |\n",
    "# |         |         |\n",
    "# + - - - - + - - - - +\n",
    "# |         |         |\n",
    "# |         |         |\n",
    "# |         |         |\n",
    "# |         |         |\n",
    "# + - - - - + - - - - +\n",
    "# Hint: to print more than one value on a line, you can print a comma-separated sequence of\n",
    "# values:\n",
    "# print('+', '-')\n",
    "# By default, print advances to the next line, but you can override that behavior and put a\n",
    "# space at the end, like this:\n",
    "# print('+', end=' ')\n",
    "# print('-')\n",
    "# The output of these statements is '+ -' on the same line. The output from the next print\n",
    "# statement would begin on the next line.\n",
    "# 2. Write a function that draws a similar grid with four rows and four columns.\n",
    "\n",
    "#1.\n",
    "\n",
    "def grid(plus,minus,vert_bar,x,y):\n",
    "    if type(plus) != str or type(minus) != str or type(vert_bar) != str or len(plus)>1 or len(minus)>1 or len(vert_bar)>1:\n",
    "        print('Error! First to third entries must be one-symboled strings!')\n",
    "    elif type(x) != int or type(y) != int or x<=0 or y<=0:\n",
    "        print('Error! The last two entries must be positive integers!')\n",
    "    else:\n",
    "        for j in range(0,2):\n",
    "            a = x*(minus+' ')\n",
    "            print(plus+' '+x*(minus+' ')+plus+' '+x*(minus+' ')+plus)\n",
    "            for i in range(0,y):\n",
    "                print(vert_bar,(2*x-1)*' ',vert_bar,(2*x-1)*' ',vert_bar)\n",
    "        print(plus+' '+x*(minus+' ')+plus+' '+x*(minus+' ')+plus)\n",
    "\n",
    "grid('+','-','|',4,4)\n",
    "print('\\n')\n",
    "grid('+','-','|',5,2)\n",
    "print('\\n')\n",
    "grid('*','&','$',4,4)\n",
    "print('\\n')\n",
    "grid('#','!','%',6,1)\n",
    "\n",
    "#2.\n",
    "#It's not clear in this situation what 'four columns and four rows' means. It could be for example:\n",
    "def grid(plus,minus,vert_bar,x,y):\n",
    "    if type(plus) != str or type(minus) != str or type(vert_bar) != str or len(plus)>1 or len(minus)>1 or len(vert_bar)>1:\n",
    "        print('Error! First to third entries must be one-symboled strings!')\n",
    "    elif type(x) != int or type(y) != int or x<=0 or y<=0:\n",
    "        print('Error! The last two entries must be positive integers!')\n",
    "    else:\n",
    "        for j in range(0,2):\n",
    "            a = x*(minus+' ')\n",
    "            print(plus+' '+x*(minus+' ')+plus+' '+x*(minus+' ')+plus)\n",
    "            for i in range(0,y):\n",
    "                print(vert_bar,(2*x-1)*' ',vert_bar,(2*x-1)*' ',vert_bar)\n",
    "        print(plus+' '+x*(minus+' ')+plus+' '+x*(minus+' ')+plus)\n"
   ]
  }
 ],
 "metadata": {
  "hide_input": false,
  "kernelspec": {
   "display_name": "Python 3",
   "language": "python",
   "name": "python3"
  },
  "language_info": {
   "codemirror_mode": {
    "name": "ipython",
    "version": 3
   },
   "file_extension": ".py",
   "mimetype": "text/x-python",
   "name": "python",
   "nbconvert_exporter": "python",
   "pygments_lexer": "ipython3",
   "version": "3.8.3"
  }
 },
 "nbformat": 4,
 "nbformat_minor": 4
}
