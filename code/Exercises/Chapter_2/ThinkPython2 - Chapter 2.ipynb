{
 "cells": [
  {
   "cell_type": "code",
   "execution_count": 5,
   "metadata": {
    "ExecuteTime": {
     "end_time": "2020-07-02T13:05:22.196951Z",
     "start_time": "2020-07-02T13:05:22.183044Z"
    }
   },
   "outputs": [
    {
     "data": {
      "text/plain": [
       "42.182"
      ]
     },
     "execution_count": 5,
     "metadata": {},
     "output_type": "execute_result"
    }
   ],
   "source": [
    "#Just a first script.\n",
    "miles = 26.2\n",
    "miles * 1.61\n",
    "#In the book it says that the cell doesn't display the result, but it seems it does! :) \n",
    "#(Maybe it didn't before but it does now)"
   ]
  },
  {
   "cell_type": "code",
   "execution_count": 7,
   "metadata": {
    "ExecuteTime": {
     "end_time": "2020-07-02T13:05:28.853976Z",
     "start_time": "2020-07-02T13:05:28.844043Z"
    }
   },
   "outputs": [
    {
     "name": "stdout",
     "output_type": "stream",
     "text": [
      "42.182\n"
     ]
    }
   ],
   "source": [
    "miles = 26.2\n",
    "print(miles*1.61)"
   ]
  },
  {
   "cell_type": "code",
   "execution_count": 11,
   "metadata": {
    "ExecuteTime": {
     "end_time": "2020-07-02T13:08:42.514945Z",
     "start_time": "2020-07-02T13:08:42.507993Z"
    }
   },
   "outputs": [
    {
     "data": {
      "text/plain": [
       "6"
      ]
     },
     "execution_count": 11,
     "metadata": {},
     "output_type": "execute_result"
    }
   ],
   "source": [
    "5\n",
    "x = 5\n",
    "x + 1"
   ]
  },
  {
   "cell_type": "code",
   "execution_count": 13,
   "metadata": {
    "ExecuteTime": {
     "end_time": "2020-07-02T13:09:24.171808Z",
     "start_time": "2020-07-02T13:09:24.164856Z"
    }
   },
   "outputs": [
    {
     "name": "stdout",
     "output_type": "stream",
     "text": [
      "5\n",
      "6\n"
     ]
    }
   ],
   "source": [
    "print(5)\n",
    "x = 5\n",
    "print(x + 1)\n",
    "#It looks like without the print (in the previous cell), it still prints the result, but only the final one.\n",
    "#Here it displays each of the prints."
   ]
  },
  {
   "cell_type": "code",
   "execution_count": 48,
   "metadata": {
    "ExecuteTime": {
     "end_time": "2020-07-02T13:45:42.716239Z",
     "start_time": "2020-07-02T13:45:42.693395Z"
    }
   },
   "outputs": [
    {
     "name": "stdout",
     "output_type": "stream",
     "text": [
      "1\n",
      "1\n",
      "2\n",
      "3\n",
      "27.0\n"
     ]
    },
    {
     "data": {
      "text/plain": [
       "True"
      ]
     },
     "execution_count": 48,
     "metadata": {},
     "output_type": "execute_result"
    }
   ],
   "source": [
    "#Exercise 2.1\n",
    "# 42 = n gives a syntax error (the name of the variable begins with a number)\n",
    "x = y = 1 #it doesn't give any errors. Just assign 1 to both variables x and y.\n",
    "print(x)\n",
    "print(y)\n",
    "\n",
    "z = 2; #putting a semicolon doesn't affect anything\n",
    "w = 3\n",
    "print(z)\n",
    "print(w)\n",
    "\n",
    "a = 27. #putting a period after an integer makes it a float type.\n",
    "print(a)\n",
    "type(a)\n",
    "\n",
    "a == 27. #putting a period after a boolean statement doesn't seem to affect anything\n",
    "\n",
    "#print(a == 31). #but after a print statement, it gives a syntax error. Better be careful then!\n",
    "\n",
    "#xy Typing just xy yields a NameError: xy is not defined. That makes sense! \n",
    "#Python thinks xy is the name of a variable, as it naturally does with other names of variables."
   ]
  },
  {
   "cell_type": "code",
   "execution_count": 6,
   "metadata": {
    "ExecuteTime": {
     "end_time": "2020-07-02T14:53:50.931849Z",
     "start_time": "2020-07-02T14:53:50.911985Z"
    }
   },
   "outputs": [
    {
     "name": "stdout",
     "output_type": "stream",
     "text": [
      "The volume of the sphere is 523.5833... cubic units.\n",
      "The total cost is $945.45.\n",
      "You will get home at 7h30m6s am\n"
     ]
    }
   ],
   "source": [
    "# Exercise 2.2\n",
    "\n",
    "#1.\n",
    "pi = 3.1415 #Remember to use period instead of commas, when referring to float numbers\n",
    "r = 5\n",
    "V = '%.4f'%((4/3)*pi*r**3)\n",
    "print (\"The volume of the sphere is {}... cubic units.\".format(V))\n",
    "\n",
    "#------------------------------------------------------------\n",
    "#2.\n",
    "cp = 24.95 #cover price\n",
    "bd = -0.4 #bookstores discount\n",
    "n = 60 #number of copies\n",
    "shp = 3+0.75*(n-1) #shipping price\n",
    "\n",
    "t = '%.2f'%(shp+n*(cp+bd*cp)) #total cost for n copies\n",
    "print(\"The total cost is ${}.\".format(t))\n",
    "\n",
    "#------------------------------------------------------------\n",
    "#3. This one is written a bit weird, but I guess I've got it.\n",
    "#first, we switch all the time units involved into a same unit, minutes, for example\n",
    "lvt = 6*60+52 #leaving time in minutes\n",
    "ep = 8+15/60 #easy pace in minutes per mile (8min + 15sec)/mile\n",
    "tmp = 7+12/60 #tempo, in minutes per mile\n",
    "elpst = 1*ep+3*tmp+1*ep #elapsed time after running, in minutes ((minutes/mile)*mile = minutes)\n",
    "art = lvt+elpst #arriving time in minutes \n",
    "hour = int(art/60) #the hour on the clock at the arriving time\n",
    "mnts = int(art-hour*60) #the minutes on the clock at the arriving time\n",
    "scnds = int((art-hour*60 -mnts)*60)\n",
    "print(\"You will get home at {}h{}m{}s am\".format(hour,mnts,scnds))"
   ]
  }
 ],
 "metadata": {
  "hide_input": false,
  "kernelspec": {
   "display_name": "Python 3",
   "language": "python",
   "name": "python3"
  },
  "language_info": {
   "codemirror_mode": {
    "name": "ipython",
    "version": 3
   },
   "file_extension": ".py",
   "mimetype": "text/x-python",
   "name": "python",
   "nbconvert_exporter": "python",
   "pygments_lexer": "ipython3",
   "version": "3.8.3"
  }
 },
 "nbformat": 4,
 "nbformat_minor": 4
}
